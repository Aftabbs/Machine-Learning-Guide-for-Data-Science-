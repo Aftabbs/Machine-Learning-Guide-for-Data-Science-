{
 "cells": [
  {
   "cell_type": "markdown",
   "metadata": {
    "id": "AThncGfLEjWX"
   },
   "source": [
    "<table align=\"left\" width=100%>\n",
    "    <tr>\n",
    "        <td width=\"20%\">\n",
    "            <img src=\"GL-2.png\">\n",
    "        </td>\n",
    "        <td>\n",
    "            <div align=\"center\">\n",
    "                <font color=\"#21618C\" size=8px>\n",
    "                  <b> Faculty Notebook <br> (Day 4) </b>\n",
    "                </font>\n",
    "            </div>\n",
    "        </td>\n",
    "    </tr>\n",
    "</table>"
   ]
  },
  {
   "cell_type": "markdown",
   "metadata": {
    "id": "B-ShL3w4EjWm"
   },
   "source": [
    "## Problem Statement\n",
    "\n",
    "This dataset is created for the prediction of Graduate admissions from an Indian perspective. The dataset contains various features that are important during the application for the Master's Program. The predicted output obtained from the classification algorithm gives a fair idea about the chances of a student for admission."
   ]
  },
  {
   "cell_type": "markdown",
   "metadata": {
    "id": "9aCFQq2bEjWn"
   },
   "source": [
    "## About the dataset (Graduate admissions prediction data) \n",
    "\n",
    "**Serial No.:** Serial number of student \n",
    "\n",
    "**GRE Scores:** GRE score (out of 340)\n",
    "\n",
    "**TOEFL Scores:** TOEFL score (out of 120)\n",
    "\n",
    "**University Rating:** University rating (out of 5)\n",
    "\n",
    "**SOP:** Strength of Statement of Purpose (out of 5)\n",
    "\n",
    "**LOR:** Strength of Letter of Recommendation (out of 5)\n",
    "\n",
    "**CGPA:** Undergraduate CGPA (out of 10)\n",
    "\n",
    "**Research:** Research experience (either 0 or 1)\n",
    "\n",
    "**Chance of Admit:** Chance of admission (target/dependent variable)"
   ]
  },
  {
   "cell_type": "markdown",
   "metadata": {
    "id": "4UD4xAyVEjWr"
   },
   "source": [
    "## Table of Content\n",
    "\n",
    "1. **[Import Libraries](#lib)**\n",
    "2. **[Data Preparation](#prep)**\n",
    "    - 2.1 - **[Read the Data](#read)**\n",
    "    - 2.2 - **[Check the Data Type](#dtype)**\n",
    "    - 2.3 - **[Remove Insignificant Variables](#drop)**\n",
    "    - 2.4 - **[Distribution of Variables](#dist)**\n",
    "    - 2.5 - **[Missing Value Treatment](#null)**\n",
    "    - 2.6 - **[Dummy Encode the Categorical Variables](#dummy)**\n",
    "    - 2.7 - **[Train-Test Split](#split)**\n",
    "3. **[Boosting Methods](#boosting)**\n",
    "    - 3.1 - **[AdaBoost](#ada)**\n",
    "    - 3.2 - **[Gradient Boosting](#gradient)**\n",
    "    - 3.3 - **[XGBoost](#xgboost)**\n",
    "        - 3.3.1 - **[Tune the Hyperparameters (GridSearchCV)](#tune)**\n",
    "4. **[Stack Generalization](#stack)**"
   ]
  },
  {
   "cell_type": "markdown",
   "metadata": {
    "id": "Pqk5cw0WEjWw"
   },
   "source": [
    "<a id=\"lib\"></a>\n",
    "# 1. Import Libraries"
   ]
  },
  {
   "cell_type": "markdown",
   "metadata": {
    "id": "5uulohVlEjWz"
   },
   "source": [
    "**Let us import the required libraries.**"
   ]
  },
  {
   "cell_type": "code",
   "execution_count": 4,
   "metadata": {},
   "outputs": [
    {
     "name": "stdout",
     "output_type": "stream",
     "text": [
      "Defaulting to user installation because normal site-packages is not writeable\n",
      "Requirement already satisfied: xgboost in c:\\users\\admin\\appdata\\roaming\\python\\python39\\site-packages (1.7.3)\n",
      "Requirement already satisfied: numpy in c:\\programdata\\anaconda3\\lib\\site-packages (from xgboost) (1.21.5)\n",
      "Requirement already satisfied: scipy in c:\\programdata\\anaconda3\\lib\\site-packages (from xgboost) (1.7.3)\n",
      "Note: you may need to restart the kernel to use updated packages.\n"
     ]
    }
   ],
   "source": [
    "pip install xgboost"
   ]
  },
  {
   "cell_type": "code",
   "execution_count": 5,
   "metadata": {
    "id": "bpuTlIeGEjW1"
   },
   "outputs": [],
   "source": [
    "# import 'Pandas' \n",
    "import pandas as pd \n",
    "\n",
    "# import 'Numpy' \n",
    "import numpy as np\n",
    "\n",
    "# import subpackage of Matplotlib\n",
    "import matplotlib.pyplot as plt\n",
    "from matplotlib.colors import ListedColormap\n",
    "\n",
    "# import 'Seaborn' \n",
    "import seaborn as sns\n",
    "\n",
    "# to suppress warnings \n",
    "from warnings import filterwarnings\n",
    "filterwarnings('ignore')\n",
    "\n",
    "# display all columns of the dataframe\n",
    "pd.options.display.max_columns = None\n",
    "\n",
    "# display all rows of the dataframe\n",
    "pd.options.display.max_rows = None\n",
    " \n",
    "# to display the float values upto 6 decimal places     \n",
    "pd.options.display.float_format = '{:.6f}'.format\n",
    "\n",
    "# import train-test split \n",
    "from sklearn.model_selection import train_test_split\n",
    "\n",
    "# import StandardScaler to perform scaling\n",
    "from sklearn.preprocessing import StandardScaler \n",
    "\n",
    "# import various functions from sklearn\n",
    "from sklearn.metrics import classification_report\n",
    "from sklearn.metrics import confusion_matrix\n",
    "from sklearn.metrics import roc_curve\n",
    "from sklearn.metrics import roc_auc_score\n",
    "from sklearn.ensemble import AdaBoostClassifier\n",
    "from sklearn.ensemble import GradientBoostingClassifier\n",
    "from sklearn.model_selection import GridSearchCV\n",
    "from sklearn.ensemble import StackingClassifier\n",
    "from sklearn.ensemble import RandomForestClassifier\n",
    "from sklearn.neighbors import KNeighborsClassifier\n",
    "from sklearn.naive_bayes import GaussianNB\n",
    "\n",
    "# import the XGBoost function for classification\n",
    "from xgboost import XGBClassifier"
   ]
  },
  {
   "cell_type": "code",
   "execution_count": 6,
   "metadata": {
    "id": "FbGaQKQFEjW7"
   },
   "outputs": [],
   "source": [
    "# set the plot size using 'rcParams'\n",
    "# once the plot size is set using 'rcParams', it sets the size of all the forthcoming plots in the file\n",
    "# pass width and height in inches to 'figure.figsize' \n",
    "plt.rcParams['figure.figsize'] = [15,8]"
   ]
  },
  {
   "cell_type": "markdown",
   "metadata": {
    "id": "89hR8ozVEjW_"
   },
   "source": [
    "<a id=\"prep\"></a>\n",
    "# 2. Data Preparation"
   ]
  },
  {
   "cell_type": "markdown",
   "metadata": {
    "id": "o_e7dGlpEjXD"
   },
   "source": [
    "<a id=\"read\"></a>\n",
    "## 2.1 Read the Data"
   ]
  },
  {
   "cell_type": "markdown",
   "metadata": {
    "id": "b50jaAScEjXF"
   },
   "source": [
    "#### Read the dataset and print the first five observations."
   ]
  },
  {
   "cell_type": "code",
   "execution_count": 7,
   "metadata": {
    "id": "YIBdw7z9EjXH",
    "outputId": "b4bdeb07-8e20-4b79-fcf2-0cbbcd43c1e4",
    "scrolled": false
   },
   "outputs": [
    {
     "data": {
      "text/html": [
       "<div>\n",
       "<style scoped>\n",
       "    .dataframe tbody tr th:only-of-type {\n",
       "        vertical-align: middle;\n",
       "    }\n",
       "\n",
       "    .dataframe tbody tr th {\n",
       "        vertical-align: top;\n",
       "    }\n",
       "\n",
       "    .dataframe thead th {\n",
       "        text-align: right;\n",
       "    }\n",
       "</style>\n",
       "<table border=\"1\" class=\"dataframe\">\n",
       "  <thead>\n",
       "    <tr style=\"text-align: right;\">\n",
       "      <th></th>\n",
       "      <th>Serial No.</th>\n",
       "      <th>GRE Score</th>\n",
       "      <th>TOEFL Score</th>\n",
       "      <th>University Rating</th>\n",
       "      <th>SOP</th>\n",
       "      <th>LOR</th>\n",
       "      <th>CGPA</th>\n",
       "      <th>Research</th>\n",
       "      <th>Chance of Admit</th>\n",
       "    </tr>\n",
       "  </thead>\n",
       "  <tbody>\n",
       "    <tr>\n",
       "      <th>0</th>\n",
       "      <td>1</td>\n",
       "      <td>337</td>\n",
       "      <td>118</td>\n",
       "      <td>4</td>\n",
       "      <td>4.500000</td>\n",
       "      <td>4.500000</td>\n",
       "      <td>9.650000</td>\n",
       "      <td>1</td>\n",
       "      <td>1</td>\n",
       "    </tr>\n",
       "    <tr>\n",
       "      <th>1</th>\n",
       "      <td>2</td>\n",
       "      <td>324</td>\n",
       "      <td>107</td>\n",
       "      <td>4</td>\n",
       "      <td>4.000000</td>\n",
       "      <td>4.500000</td>\n",
       "      <td>8.870000</td>\n",
       "      <td>1</td>\n",
       "      <td>1</td>\n",
       "    </tr>\n",
       "    <tr>\n",
       "      <th>2</th>\n",
       "      <td>3</td>\n",
       "      <td>316</td>\n",
       "      <td>104</td>\n",
       "      <td>3</td>\n",
       "      <td>3.000000</td>\n",
       "      <td>3.500000</td>\n",
       "      <td>8.000000</td>\n",
       "      <td>1</td>\n",
       "      <td>0</td>\n",
       "    </tr>\n",
       "    <tr>\n",
       "      <th>3</th>\n",
       "      <td>4</td>\n",
       "      <td>322</td>\n",
       "      <td>110</td>\n",
       "      <td>3</td>\n",
       "      <td>3.500000</td>\n",
       "      <td>2.500000</td>\n",
       "      <td>8.670000</td>\n",
       "      <td>1</td>\n",
       "      <td>1</td>\n",
       "    </tr>\n",
       "    <tr>\n",
       "      <th>4</th>\n",
       "      <td>5</td>\n",
       "      <td>314</td>\n",
       "      <td>103</td>\n",
       "      <td>2</td>\n",
       "      <td>2.000000</td>\n",
       "      <td>3.000000</td>\n",
       "      <td>8.210000</td>\n",
       "      <td>0</td>\n",
       "      <td>0</td>\n",
       "    </tr>\n",
       "  </tbody>\n",
       "</table>\n",
       "</div>"
      ],
      "text/plain": [
       "   Serial No.  GRE Score  TOEFL Score  University Rating      SOP      LOR  \\\n",
       "0           1        337          118                  4 4.500000 4.500000   \n",
       "1           2        324          107                  4 4.000000 4.500000   \n",
       "2           3        316          104                  3 3.000000 3.500000   \n",
       "3           4        322          110                  3 3.500000 2.500000   \n",
       "4           5        314          103                  2 2.000000 3.000000   \n",
       "\n",
       "      CGPA  Research  Chance of Admit  \n",
       "0 9.650000         1                1  \n",
       "1 8.870000         1                1  \n",
       "2 8.000000         1                0  \n",
       "3 8.670000         1                1  \n",
       "4 8.210000         0                0  "
      ]
     },
     "execution_count": 7,
     "metadata": {},
     "output_type": "execute_result"
    }
   ],
   "source": [
    "# load the csv file\n",
    "# store the data in 'df_admissions'\n",
    "df_admissions = pd.read_csv('Admission_predict.csv')\n",
    "\n",
    "# display first five observations using head()\n",
    "df_admissions.head()"
   ]
  },
  {
   "cell_type": "markdown",
   "metadata": {
    "id": "I6hKuvcvEjXM"
   },
   "source": [
    "**Let us now see the number of variables and observations in the data.**"
   ]
  },
  {
   "cell_type": "code",
   "execution_count": 8,
   "metadata": {
    "id": "EZtoNNWSEjXN",
    "outputId": "1434d6a3-76a7-4a56-d84f-ac437af50ee4"
   },
   "outputs": [
    {
     "data": {
      "text/plain": [
       "(400, 9)"
      ]
     },
     "execution_count": 8,
     "metadata": {},
     "output_type": "execute_result"
    }
   ],
   "source": [
    "# use 'shape' to check the dimension of data\n",
    "df_admissions.shape"
   ]
  },
  {
   "cell_type": "markdown",
   "metadata": {
    "id": "1r1TStgsEjXP"
   },
   "source": [
    "**Interpretation:** The data has 400 observations and 9 variables."
   ]
  },
  {
   "cell_type": "markdown",
   "metadata": {
    "id": "pt4xtiI8EjXQ"
   },
   "source": [
    "<a id=\"dtype\"></a>\n",
    "## 2.2 Check the Data Type"
   ]
  },
  {
   "cell_type": "markdown",
   "metadata": {
    "id": "KacC-e8NEjXS"
   },
   "source": [
    "**Check the data type of each variable. If the data type is not as per the data definition, change the data type.**"
   ]
  },
  {
   "cell_type": "code",
   "execution_count": 9,
   "metadata": {
    "id": "CACEFshyEjXT",
    "outputId": "04a4edbf-91bd-48da-dff5-5cf2e7d28e5c",
    "scrolled": false
   },
   "outputs": [
    {
     "data": {
      "text/plain": [
       "Serial No.             int64\n",
       "GRE Score              int64\n",
       "TOEFL Score            int64\n",
       "University Rating      int64\n",
       "SOP                  float64\n",
       "LOR                  float64\n",
       "CGPA                 float64\n",
       "Research               int64\n",
       "Chance of Admit        int64\n",
       "dtype: object"
      ]
     },
     "execution_count": 9,
     "metadata": {},
     "output_type": "execute_result"
    }
   ],
   "source": [
    "# use 'dtypes' to check the data type of a variable\n",
    "df_admissions.dtypes"
   ]
  },
  {
   "cell_type": "markdown",
   "metadata": {
    "id": "QzNLxghzEjXU"
   },
   "source": [
    "**Interpretation:** The variables `GRE Score`, `TOEFL Score`, `University Rating`, `SOP`, `LOR` and `CGPA` are numerical.\n",
    "\n",
    "From the above output, we see that the data type of `Research` is 'int64'.\n",
    "\n",
    "But according to the data definition, `Research` is a categorical variable, which is wrongly interpreted as 'int64', so we will convert these variables data type to 'object'."
   ]
  },
  {
   "cell_type": "markdown",
   "metadata": {
    "id": "ay2Qcgm_EjXV"
   },
   "source": [
    "#### Change the data type as per the data definition."
   ]
  },
  {
   "cell_type": "code",
   "execution_count": 10,
   "metadata": {
    "id": "dof79PEHEjXV"
   },
   "outputs": [],
   "source": [
    "# convert numerical variable to categorical (object) \n",
    "# use astype() to change the data type\n",
    "\n",
    "# change the data type of 'Research'\n",
    "df_admissions['Research'] = df_admissions['Research'].astype(object)"
   ]
  },
  {
   "cell_type": "markdown",
   "metadata": {
    "id": "vyZOJqG8EjXX"
   },
   "source": [
    "#### Recheck the data type after the conversion. "
   ]
  },
  {
   "cell_type": "code",
   "execution_count": 11,
   "metadata": {
    "id": "110yEcGzEjXX",
    "outputId": "15f6a4ba-e1c1-4fd9-990e-d085b0f0caa4"
   },
   "outputs": [
    {
     "data": {
      "text/plain": [
       "Serial No.             int64\n",
       "GRE Score              int64\n",
       "TOEFL Score            int64\n",
       "University Rating      int64\n",
       "SOP                  float64\n",
       "LOR                  float64\n",
       "CGPA                 float64\n",
       "Research              object\n",
       "Chance of Admit        int64\n",
       "dtype: object"
      ]
     },
     "execution_count": 11,
     "metadata": {},
     "output_type": "execute_result"
    }
   ],
   "source": [
    "# recheck the data types using 'dtypes'\n",
    "df_admissions.dtypes"
   ]
  },
  {
   "cell_type": "markdown",
   "metadata": {
    "id": "eQZceUbmEjXZ"
   },
   "source": [
    "**Interpretation:** Now, all the variables have the correct data type."
   ]
  },
  {
   "cell_type": "markdown",
   "metadata": {
    "id": "_1H5PgvcEjXa"
   },
   "source": [
    "<a id=\"drop\"></a>\n",
    "## 2.3 Remove Insignificant Variables"
   ]
  },
  {
   "cell_type": "markdown",
   "metadata": {
    "id": "Xnk7XJFkEjXa"
   },
   "source": [
    "The column `Serial No.` contains the serial number of the student, which is redundant for further analysis. Thus, we drop the column."
   ]
  },
  {
   "cell_type": "code",
   "execution_count": 12,
   "metadata": {
    "id": "s4IvRgQ4EjXb"
   },
   "outputs": [],
   "source": [
    "# drop the column 'Serial No.' using drop()\n",
    "# 'axis = 1' drops the specified column\n",
    "df_admissions = df_admissions.drop('Serial No.', axis = 1)"
   ]
  },
  {
   "cell_type": "markdown",
   "metadata": {
    "id": "Cpt7oPPPEjXb"
   },
   "source": [
    "<a id=\"dist\"></a>\n",
    "## 2.4 Distribution of Variables"
   ]
  },
  {
   "cell_type": "markdown",
   "metadata": {
    "id": "2ufzzIeOEjXc"
   },
   "source": [
    "**Distribution of numeric independent variables.**"
   ]
  },
  {
   "cell_type": "code",
   "execution_count": 13,
   "metadata": {
    "id": "1HiEz2XIEjXc",
    "outputId": "5b7d38be-a5c4-4bf5-a0d9-d4dd9a00be60"
   },
   "outputs": [
    {
     "data": {
      "image/png": "[encoded data removed]",
      "text/plain": [
       "<Figure size 1080x576 with 6 Axes>"
      ]
     },
     "metadata": {
      "needs_background": "light"
     },
     "output_type": "display_data"
    },
    {
     "name": "stdout",
     "output_type": "stream",
     "text": [
      "Skewness:\n"
     ]
    },
    {
     "data": {
      "text/plain": [
       "GRE Score           -0.062893\n",
       "TOEFL Score          0.057216\n",
       "University Rating    0.171260\n",
       "SOP                 -0.275761\n",
       "LOR                 -0.106991\n",
       "CGPA                -0.065991\n",
       "Research            -0.191582\n",
       "dtype: float64"
      ]
     },
     "execution_count": 13,
     "metadata": {},
     "output_type": "execute_result"
    }
   ],
   "source": [
    "# for the independent numeric variables, we plot the histogram to check the distribution of the variables\n",
    "# Note: the hist() function considers the numeric variables only, by default\n",
    "# we drop the target variable using drop()\n",
    "# 'axis=1' drops the specified column\n",
    "df_admissions.drop('Chance of Admit', axis = 1).hist()\n",
    "\n",
    "# adjust the subplots\n",
    "plt.tight_layout()\n",
    "\n",
    "# display the plot\n",
    "plt.show()  \n",
    "\n",
    "# print the skewness for each numeric independent variable\n",
    "print('Skewness:')\n",
    "# we drop the target variable using drop()\n",
    "# 'axis=1' drops the specified column\n",
    "# skew() returns the coefficient of skewness for each variable\n",
    "df_admissions.drop('Chance of Admit', axis = 1).skew()"
   ]
  },
  {
   "cell_type": "markdown",
   "metadata": {
    "id": "eVqITpccEjXd"
   },
   "source": [
    "**Interpretation:** The above plot indicates that all the variables are near normally distributed."
   ]
  },
  {
   "cell_type": "markdown",
   "metadata": {
    "id": "Zz5V2wIeEjXe"
   },
   "source": [
    "**Distribution of categoric independent variable.**"
   ]
  },
  {
   "cell_type": "code",
   "execution_count": 14,
   "metadata": {
    "id": "dDZm7pNTEjXe",
    "outputId": "f65cc4bb-053f-44f3-acf9-594c974cd240"
   },
   "outputs": [
    {
     "data": {
      "image/png": "[encoded data removed]",
      "text/plain": [
       "<Figure size 1080x576 with 1 Axes>"
      ]
     },
     "metadata": {
      "needs_background": "light"
     },
     "output_type": "display_data"
    }
   ],
   "source": [
    "# for the independent categoric variable, we plot the count plot to check the distribution of the variable 'Research'\n",
    "# use countplot() to plot the count of each label in the categorical variable \n",
    "sns.countplot(df_admissions.Research)\n",
    "\n",
    "# add plot and axes labels\n",
    "# set text size using 'fontsize'\n",
    "plt.title('Count Plot for Categorical Variable (Research)', fontsize = 15)\n",
    "plt.xlabel('Research', fontsize = 15)\n",
    "plt.ylabel('Count', fontsize = 15)\n",
    "\n",
    "# display the plot\n",
    "plt.show()"
   ]
  },
  {
   "cell_type": "markdown",
   "metadata": {
    "id": "N8_UgKfSEjXf"
   },
   "source": [
    "#### Distribution of dependent variable."
   ]
  },
  {
   "cell_type": "code",
   "execution_count": 15,
   "metadata": {
    "id": "--K9k_muEjXg",
    "outputId": "e32498e8-86c2-40e9-a186-f4eabd5ed1c8"
   },
   "outputs": [
    {
     "data": {
      "image/png": "[encoded data removed]",
      "text/plain": [
       "<Figure size 1080x576 with 1 Axes>"
      ]
     },
     "metadata": {
      "needs_background": "light"
     },
     "output_type": "display_data"
    }
   ],
   "source": [
    "# consider only the target variable\n",
    "df_target = df_admissions['Chance of Admit'].copy()\n",
    "\n",
    "# get counts of 0's and 1's in the 'Chance of Admit' variable\n",
    "df_target.value_counts()\n",
    "\n",
    "# plot the countplot of the variable 'Chance of Admit'\n",
    "sns.countplot(x = df_target)\n",
    "\n",
    "# use below code to print the values in the graph\n",
    "# 'x' and 'y' gives position of the text\n",
    "# 's' is the text \n",
    "plt.text(x = -0.05, y = df_target.value_counts()[0] + 1, s = str(round((df_target.value_counts()[0])*100/len(df_target),2)) + '%')\n",
    "plt.text(x = 0.95, y = df_target.value_counts()[1] +1, s = str(round((df_target.value_counts()[1])*100/len(df_target),2)) + '%')\n",
    "\n",
    "# add plot and axes labels\n",
    "# set text size using 'fontsize'\n",
    "plt.title('Count Plot for Target Variable (Chance of Admit)', fontsize = 15)\n",
    "plt.xlabel('Target Variable', fontsize = 15)\n",
    "plt.ylabel('Count', fontsize = 15)\n",
    "\n",
    "# to show the plot\n",
    "plt.show()"
   ]
  },
  {
   "cell_type": "markdown",
   "metadata": {
    "id": "owpTmEbHEjXh"
   },
   "source": [
    "**Interpretation:** The above plot shows that there is no imbalance in the target variable."
   ]
  },
  {
   "cell_type": "markdown",
   "metadata": {
    "id": "q_6tEGciEjXi"
   },
   "source": [
    "<a id=\"null\"></a>\n",
    "## 2.5 Missing Value Treatment"
   ]
  },
  {
   "cell_type": "markdown",
   "metadata": {
    "id": "ml5eNbxlEjXj"
   },
   "source": [
    "First, run a check for the presence of missing values and their percentage for each column. Then choose the right approach to treat them."
   ]
  },
  {
   "cell_type": "code",
   "execution_count": 16,
   "metadata": {
    "id": "nJ0pExBuEjXj",
    "outputId": "18d03311-7d6e-442a-cfd2-d0f988513557"
   },
   "outputs": [
    {
     "data": {
      "text/html": [
       "<div>\n",
       "<style scoped>\n",
       "    .dataframe tbody tr th:only-of-type {\n",
       "        vertical-align: middle;\n",
       "    }\n",
       "\n",
       "    .dataframe tbody tr th {\n",
       "        vertical-align: top;\n",
       "    }\n",
       "\n",
       "    .dataframe thead th {\n",
       "        text-align: right;\n",
       "    }\n",
       "</style>\n",
       "<table border=\"1\" class=\"dataframe\">\n",
       "  <thead>\n",
       "    <tr style=\"text-align: right;\">\n",
       "      <th></th>\n",
       "      <th>Total</th>\n",
       "      <th>Percentage of Missing Values</th>\n",
       "    </tr>\n",
       "  </thead>\n",
       "  <tbody>\n",
       "    <tr>\n",
       "      <th>GRE Score</th>\n",
       "      <td>0</td>\n",
       "      <td>0.000000</td>\n",
       "    </tr>\n",
       "    <tr>\n",
       "      <th>TOEFL Score</th>\n",
       "      <td>0</td>\n",
       "      <td>0.000000</td>\n",
       "    </tr>\n",
       "    <tr>\n",
       "      <th>University Rating</th>\n",
       "      <td>0</td>\n",
       "      <td>0.000000</td>\n",
       "    </tr>\n",
       "    <tr>\n",
       "      <th>SOP</th>\n",
       "      <td>0</td>\n",
       "      <td>0.000000</td>\n",
       "    </tr>\n",
       "    <tr>\n",
       "      <th>LOR</th>\n",
       "      <td>0</td>\n",
       "      <td>0.000000</td>\n",
       "    </tr>\n",
       "    <tr>\n",
       "      <th>CGPA</th>\n",
       "      <td>0</td>\n",
       "      <td>0.000000</td>\n",
       "    </tr>\n",
       "    <tr>\n",
       "      <th>Research</th>\n",
       "      <td>0</td>\n",
       "      <td>0.000000</td>\n",
       "    </tr>\n",
       "    <tr>\n",
       "      <th>Chance of Admit</th>\n",
       "      <td>0</td>\n",
       "      <td>0.000000</td>\n",
       "    </tr>\n",
       "  </tbody>\n",
       "</table>\n",
       "</div>"
      ],
      "text/plain": [
       "                   Total  Percentage of Missing Values\n",
       "GRE Score              0                      0.000000\n",
       "TOEFL Score            0                      0.000000\n",
       "University Rating      0                      0.000000\n",
       "SOP                    0                      0.000000\n",
       "LOR                    0                      0.000000\n",
       "CGPA                   0                      0.000000\n",
       "Research               0                      0.000000\n",
       "Chance of Admit        0                      0.000000"
      ]
     },
     "execution_count": 16,
     "metadata": {},
     "output_type": "execute_result"
    }
   ],
   "source": [
    "# sort the variables on the basis of total null values in the variable\n",
    "# 'isnull().sum()' returns the number of missing values in each variable\n",
    "# 'ascending = False' sorts values in the descending order\n",
    "# the variable with highest number of missing values will appear first\n",
    "Total = df_admissions.isnull().sum().sort_values(ascending=False)          \n",
    "\n",
    "# calculate percentage of missing values\n",
    "# 'ascending = False' sorts values in the descending order\n",
    "# the variable with highest percentage of missing values will appear first\n",
    "Percent = (df_admissions.isnull().sum()*100/df_admissions.isnull().count()).sort_values(ascending=False)   \n",
    "\n",
    "# concat the 'Total' and 'Percent' columns using 'concat' function\n",
    "# pass a list of column names in parameter 'keys' \n",
    "# 'axis = 1' concats along the columns\n",
    "missing_data = pd.concat([Total, Percent], axis = 1, keys = ['Total', 'Percentage of Missing Values'])    \n",
    "missing_data"
   ]
  },
  {
   "cell_type": "markdown",
   "metadata": {
    "id": "OoAPgoLHEjXk"
   },
   "source": [
    "**Interpretation:** The above output shows that there are no missing values in the data."
   ]
  },
  {
   "cell_type": "markdown",
   "metadata": {
    "id": "UgW3R6o4EjXk"
   },
   "source": [
    "<a id=\"dummy\"></a>\n",
    "## 2.6 Dummy Encode the Categorical Variables"
   ]
  },
  {
   "cell_type": "markdown",
   "metadata": {
    "id": "5BF34JjfEjXk"
   },
   "source": [
    "#### Split the dependent and independent variables."
   ]
  },
  {
   "cell_type": "code",
   "execution_count": 17,
   "metadata": {
    "id": "SbOIUEVZEjXl"
   },
   "outputs": [],
   "source": [
    "# store the target variable 'Chance of Admit' in a dataframe 'df_target'\n",
    "df_target = df_admissions['Chance of Admit']\n",
    "\n",
    "# store all the independent variables in a dataframe 'df_feature' \n",
    "# drop the column 'Chance of Admit' using drop()\n",
    "# 'axis = 1' drops the specified column\n",
    "df_feature = df_admissions.drop('Chance of Admit', axis = 1)"
   ]
  },
  {
   "cell_type": "markdown",
   "metadata": {
    "id": "_REt6Y-uEjXl"
   },
   "source": [
    "#### Filter numerical and categorical variables."
   ]
  },
  {
   "cell_type": "code",
   "execution_count": 18,
   "metadata": {
    "id": "0cvUDzOUEjXm",
    "outputId": "8db858e8-70fa-4cac-9276-fda771f1a0d7"
   },
   "outputs": [
    {
     "data": {
      "text/plain": [
       "Index(['GRE Score', 'TOEFL Score', 'University Rating', 'SOP', 'LOR', 'CGPA'], dtype='object')"
      ]
     },
     "execution_count": 18,
     "metadata": {},
     "output_type": "execute_result"
    }
   ],
   "source": [
    "# filter the numerical features in the dataset\n",
    "# 'select_dtypes' is used to select the variables with given data type\n",
    "# 'include = [np.number]' will include all the numerical variables\n",
    "df_num = df_feature.select_dtypes(include = [np.number])\n",
    "\n",
    "# display numerical features\n",
    "df_num.columns"
   ]
  },
  {
   "cell_type": "code",
   "execution_count": 19,
   "metadata": {
    "id": "LnSD_UzKEjXn",
    "outputId": "221ee467-0fa2-4ebc-83e1-7753b721aceb"
   },
   "outputs": [
    {
     "data": {
      "text/plain": [
       "Index(['Research'], dtype='object')"
      ]
     },
     "execution_count": 19,
     "metadata": {},
     "output_type": "execute_result"
    }
   ],
   "source": [
    "# filter the categorical features in the dataset\n",
    "# 'select_dtypes' is used to select the variables with given data type\n",
    "# 'include = [np.object]' will include all the categorical variables\n",
    "df_cat = df_feature.select_dtypes(include = [np.object])\n",
    "\n",
    "# display categorical features\n",
    "df_cat.columns"
   ]
  },
  {
   "cell_type": "markdown",
   "metadata": {
    "id": "7OTMYqZsEjXn"
   },
   "source": [
    "The regression method fails in presence of categorical variables. To overcome this we use (n-1) dummy encoding. \n",
    "\n",
    "**Encode the each categorical variable and create (n-1) dummy variables for n categories of the variable.**"
   ]
  },
  {
   "cell_type": "code",
   "execution_count": 20,
   "metadata": {
    "id": "jX9y1qvtEjXo"
   },
   "outputs": [],
   "source": [
    "# use 'get_dummies' from pandas to create dummy variables\n",
    "# use 'drop_first' to create (n-1) dummy variables\n",
    "dummy_var = pd.get_dummies(data = df_cat, drop_first = True)"
   ]
  },
  {
   "cell_type": "markdown",
   "metadata": {
    "id": "zRwl2QQ1EjXo"
   },
   "source": [
    "#### Concatenate numerical and dummy encoded categorical variables."
   ]
  },
  {
   "cell_type": "code",
   "execution_count": 24,
   "metadata": {
    "id": "xGAMsgkCEjXo",
    "outputId": "6c7efbbd-266a-4c21-89ad-80c5558ae9dc",
    "scrolled": true
   },
   "outputs": [
    {
     "data": {
      "text/html": [
       "<div>\n",
       "<style scoped>\n",
       "    .dataframe tbody tr th:only-of-type {\n",
       "        vertical-align: middle;\n",
       "    }\n",
       "\n",
       "    .dataframe tbody tr th {\n",
       "        vertical-align: top;\n",
       "    }\n",
       "\n",
       "    .dataframe thead th {\n",
       "        text-align: right;\n",
       "    }\n",
       "</style>\n",
       "<table border=\"1\" class=\"dataframe\">\n",
       "  <thead>\n",
       "    <tr style=\"text-align: right;\">\n",
       "      <th></th>\n",
       "      <th>GRE Score</th>\n",
       "      <th>TOEFL Score</th>\n",
       "      <th>University Rating</th>\n",
       "      <th>SOP</th>\n",
       "      <th>LOR</th>\n",
       "      <th>CGPA</th>\n",
       "      <th>Research_1</th>\n",
       "    </tr>\n",
       "  </thead>\n",
       "  <tbody>\n",
       "    <tr>\n",
       "      <th>0</th>\n",
       "      <td>337</td>\n",
       "      <td>118</td>\n",
       "      <td>4</td>\n",
       "      <td>4.500000</td>\n",
       "      <td>4.500000</td>\n",
       "      <td>9.650000</td>\n",
       "      <td>1</td>\n",
       "    </tr>\n",
       "    <tr>\n",
       "      <th>1</th>\n",
       "      <td>324</td>\n",
       "      <td>107</td>\n",
       "      <td>4</td>\n",
       "      <td>4.000000</td>\n",
       "      <td>4.500000</td>\n",
       "      <td>8.870000</td>\n",
       "      <td>1</td>\n",
       "    </tr>\n",
       "    <tr>\n",
       "      <th>2</th>\n",
       "      <td>316</td>\n",
       "      <td>104</td>\n",
       "      <td>3</td>\n",
       "      <td>3.000000</td>\n",
       "      <td>3.500000</td>\n",
       "      <td>8.000000</td>\n",
       "      <td>1</td>\n",
       "    </tr>\n",
       "    <tr>\n",
       "      <th>3</th>\n",
       "      <td>322</td>\n",
       "      <td>110</td>\n",
       "      <td>3</td>\n",
       "      <td>3.500000</td>\n",
       "      <td>2.500000</td>\n",
       "      <td>8.670000</td>\n",
       "      <td>1</td>\n",
       "    </tr>\n",
       "    <tr>\n",
       "      <th>4</th>\n",
       "      <td>314</td>\n",
       "      <td>103</td>\n",
       "      <td>2</td>\n",
       "      <td>2.000000</td>\n",
       "      <td>3.000000</td>\n",
       "      <td>8.210000</td>\n",
       "      <td>0</td>\n",
       "    </tr>\n",
       "  </tbody>\n",
       "</table>\n",
       "</div>"
      ],
      "text/plain": [
       "   GRE Score  TOEFL Score  University Rating      SOP      LOR     CGPA  \\\n",
       "0        337          118                  4 4.500000 4.500000 9.650000   \n",
       "1        324          107                  4 4.000000 4.500000 8.870000   \n",
       "2        316          104                  3 3.000000 3.500000 8.000000   \n",
       "3        322          110                  3 3.500000 2.500000 8.670000   \n",
       "4        314          103                  2 2.000000 3.000000 8.210000   \n",
       "\n",
       "   Research_1  \n",
       "0           1  \n",
       "1           1  \n",
       "2           1  \n",
       "3           1  \n",
       "4           0  "
      ]
     },
     "execution_count": 24,
     "metadata": {},
     "output_type": "execute_result"
    }
   ],
   "source": [
    "# concat the dummy variables with numeric features to create a dataframe of all independent variables\n",
    "# 'axis=1' concats the dataframes along columns \n",
    "X = pd.concat([df_num, dummy_var], axis = 1)\n",
    "\n",
    "# display first five observations\n",
    "X.head()"
   ]
  },
  {
   "cell_type": "markdown",
   "metadata": {
    "id": "6YskvlK9EjXp"
   },
   "source": [
    "<a id=\"split\"></a>\n",
    "## 2.7 Train-Test Split"
   ]
  },
  {
   "cell_type": "markdown",
   "metadata": {
    "id": "TX3kwwSeEjXp"
   },
   "source": [
    "Before applying various classification techniques to predict the admission status of the student, let us split the dataset in train and test set."
   ]
  },
  {
   "cell_type": "code",
   "execution_count": 22,
   "metadata": {
    "id": "LKR-3FVpEjXq",
    "outputId": "506dcb7d-7d3c-49cc-82c3-378af2fd5008"
   },
   "outputs": [
    {
     "name": "stdout",
     "output_type": "stream",
     "text": [
      "X_train (320, 7)\n",
      "y_train (320,)\n",
      "X_test (80, 7)\n",
      "y_test (80,)\n"
     ]
    }
   ],
   "source": [
    "# split data into train subset and test subset\n",
    "# set 'random_state' to generate the same dataset each time you run the code \n",
    "# 'test_size' returns the proportion of data to be included in the test set\n",
    "X_train, X_test, y_train, y_test = train_test_split(X, df_target, random_state = 10, test_size = 0.2)\n",
    "\n",
    "# check the dimensions of the train & test subset using 'shape'\n",
    "# print dimension of train set\n",
    "print('X_train', X_train.shape)\n",
    "print('y_train', y_train.shape)\n",
    "\n",
    "# print dimension of test set\n",
    "print('X_test', X_test.shape)\n",
    "print('y_test', y_test.shape)"
   ]
  },
  {
   "cell_type": "markdown",
   "metadata": {
    "id": "uWi1LS05EjXq"
   },
   "source": [
    "#### Create a generalized function to calculate the metrics for the test set."
   ]
  },
  {
   "cell_type": "code",
   "execution_count": 25,
   "metadata": {
    "id": "M_zT733VEjXq"
   },
   "outputs": [],
   "source": [
    "# create a generalized function to calculate the metrics values for test set\n",
    "def get_test_report(model):\n",
    "    \n",
    "    test_pred = model.predict(X_test)\n",
    "\n",
    "    # return the classification report for test data\n",
    "    return(classification_report(y_test,test_pred))"
   ]
  },
  {
   "cell_type": "markdown",
   "metadata": {
    "id": "yGt9cC2lEjXr"
   },
   "source": [
    "#### Plot the confusion matrix."
   ]
  },
  {
   "cell_type": "code",
   "execution_count": 30,
   "metadata": {
    "id": "Av39nL7SebpS"
   },
   "outputs": [],
   "source": [
    "def plot_confusion_matrix(model):\n",
    "    y_pred = model.predict(X_test)\n",
    "    cm = confusion_matrix(y_test, y_pred)\n",
    "    conf_matrix = pd.DataFrame(data = cm,columns =['Predicted:0','Predicted:1'] , index =['Actual:0','Actual:1'])\n",
    "\n",
    "    sns.heatmap(conf_matrix, annot = True, fmt = 'd', cmap = ListedColormap(['lightskyblue']), cbar = False, \n",
    "                linewidths = 0.1, annot_kws = {'size':25})\n",
    "\n",
    "    plt.xticks(fontsize = 20)\n",
    "    plt.yticks(fontsize = 20)\n",
    "    plt.show()"
   ]
  },
  {
   "cell_type": "markdown",
   "metadata": {
    "id": "mFjaeCsREjXs"
   },
   "source": [
    "#### Plot the ROC curve.\n",
    "\n",
    "ROC curve is plotted with the true positive rate (tpr) on the y-axis and false positive rate (fpr) on the x-axis. The area under this curve is used as a measure of the separability of the model."
   ]
  },
  {
   "cell_type": "code",
   "execution_count": 28,
   "metadata": {
    "id": "SmUS6hEaEjXt"
   },
   "outputs": [],
   "source": [
    "def plot_roc(model):\n",
    "    y_pred_prob = model.predict_proba(X_test)[:,1]\n",
    "    \n",
    "    fpr,tpr,threshold = roc_curve(y_test, y_pred_prob)\n",
    "\n",
    "    plt.plot(fpr,tpr)\n",
    "\n",
    "    # set limits for x and y axes\n",
    "    plt.xlim([0.0, 1.0])\n",
    "    plt.ylim([0.0, 1.0])\n",
    "\n",
    "    # plot the straight line showing worst prediction for the model\n",
    "    plt.plot([0.0,1.0])\n",
    "    plt.plot([0.0,1.0])\n",
    "\n",
    "    # add plot and axes labels\n",
    "    # set text size using 'fontsize'\n",
    "    plt.title('ROC curve for Admission Prediction Classifier', fontsize = 15)\n",
    "    plt.xlabel('False positive rate (1-Specificity)', fontsize = 15)\n",
    "    plt.ylabel('True positive rate (Sensitivity)', fontsize = 15)\n",
    "\n",
    "    # add the AUC score to the plot\n",
    "    # 'x' and 'y' gives position of the text\n",
    "    # 's' is the text \n",
    "    # use round() to round-off the AUC score upto 4 digits\n",
    "    plt.text(x = 0.82, y = 0.3, s = ('AUC Score:',round(roc_auc_score(y_test,y_pred_prob),4)))\n",
    "\n",
    "    # plot the grid\n",
    "    plt.grid(True)"
   ]
  },
  {
   "cell_type": "markdown",
   "metadata": {
    "id": "ps8-S3nHEjXu"
   },
   "source": [
    "<a id=\"boosting\"></a>\n",
    "# 3. Boosting Methods"
   ]
  },
  {
   "cell_type": "markdown",
   "metadata": {
    "id": "0w5GvDshEjXv"
   },
   "source": [
    "The Ensemble technique considers multiple models for predicting the results. `Bagging` and `Boosting` are two of the types of ensembles. The bagging methods construct the multiple models in parallel; whereas, the boosting methods construct the models sequentially.\n",
    "\n",
    "Earlier, we have studied one of the bagging (bootstrap aggregating) technique i.e. `Random Forest`."
   ]
  },
  {
   "cell_type": "markdown",
   "metadata": {
    "id": "TQ7xVPG3EjXv"
   },
   "source": [
    "The boosting method fits multiple weak classifiers to create a strong classifier. In this method, the model tries to correct the errors in the previous model. In this section, we learn some of the boosting methods such as `AdaBoost`, `Gradient Boosting` and `XGBoost`."
   ]
  },
  {
   "cell_type": "markdown",
   "metadata": {
    "id": "bCrnp_FsEjXw"
   },
   "source": [
    "<a id=\"ada\"></a>\n",
    "## 3.1 AdaBoost"
   ]
  },
  {
   "cell_type": "markdown",
   "metadata": {
    "id": "fYpiA9nrEjXx"
   },
   "source": [
    "Let us build the AdaBoost classifier with decision trees. The model creates several stumps (decision tree with only a single decision node and two leaf nodes) on the train set and predicts the class based on these weak learners (stumps). For the first model, it assigns equal weights to each sample. It assigns the higher weight for the wrongly predicted samples and lower weight for the correctly predicted samples. This method continues till all the observations are correctly classified or the predefined number of stumps is created."
   ]
  },
  {
   "cell_type": "markdown",
   "metadata": {
    "id": "SPUfsoiMEjXx"
   },
   "source": [
    "#### Build an Adaboost model on a training dataset."
   ]
  },
  {
   "cell_type": "code",
   "execution_count": 35,
   "metadata": {
    "id": "HaXmrEolEjXy",
    "outputId": "0b3306cc-5294-4208-d2ba-a9202ceb3673",
    "scrolled": false
   },
   "outputs": [
    {
     "data": {
      "text/plain": [
       "AdaBoostClassifier(n_estimators=40, random_state=10)"
      ]
     },
     "execution_count": 35,
     "metadata": {},
     "output_type": "execute_result"
    }
   ],
   "source": [
    "# instantiate the 'AdaBoostClassifier'\n",
    "# n_estimators: number of estimators at which boosting is terminated\n",
    "# pass the 'random_state' to obtain the same results for each code implementation\n",
    "\n",
    "ada_model=AdaBoostClassifier(n_estimators=40,random_state = 10)\n",
    "\n",
    "# fit the model using fit() on train data\n",
    "ada_model.fit(X_train, y_train)"
   ]
  },
  {
   "cell_type": "markdown",
   "metadata": {
    "id": "CxDANG1aEjXy"
   },
   "source": [
    "Let us understand the parameters in the `AdaBoostClassifier()`:\n",
    "\n",
    "`algorithm=SAMME.R`: It is the default boosting algorithm. This algorithm uses predicted class probabilities to build the stumps.\n",
    "\n",
    "`base_estimator=None`: By default, the estimator is a decision tree with a maximum depth equal to 1 (stump).\n",
    "\n",
    "`learning_rate=1.0`: It considers the contribution of each estimator in the classifier.\n",
    "\n",
    "`n_estimators=40`: It is the number of estimators at which boosting is terminated.\n",
    "\n",
    "`random_state=10`: It returns the same set of samples for each code implementation."
   ]
  },
  {
   "cell_type": "markdown",
   "metadata": {
    "id": "ogxfyW8oEjXz"
   },
   "source": [
    "#### Plot the confusion matrix."
   ]
  },
  {
   "cell_type": "code",
   "execution_count": 36,
   "metadata": {
    "id": "K3lFBP7NEjX0",
    "outputId": "69768bb1-c985-498d-d24e-d4ae3bebae3b"
   },
   "outputs": [
    {
     "data": {
      "image/png": "[encoded data removed]",
      "text/plain": [
       "<Figure size 1080x576 with 1 Axes>"
      ]
     },
     "metadata": {
      "needs_background": "light"
     },
     "output_type": "display_data"
    }
   ],
   "source": [
    "# call the function to plot the confusion matrix\n",
    "# pass the AdaBoost model to the function\n",
    "plot_confusion_matrix(ada_model)"
   ]
  },
  {
   "cell_type": "markdown",
   "metadata": {
    "id": "vKBzcRScEjX1"
   },
   "source": [
    "**Calculate performance measures on the test set.**"
   ]
  },
  {
   "cell_type": "code",
   "execution_count": 37,
   "metadata": {
    "id": "UP5DA9_qebpC",
    "outputId": "077a50b5-4232-4989-ebb8-b10e8fdf3793",
    "scrolled": false
   },
   "outputs": [
    {
     "name": "stdout",
     "output_type": "stream",
     "text": [
      "              precision    recall  f1-score   support\n",
      "\n",
      "           0       0.85      0.79      0.81        42\n",
      "           1       0.78      0.84      0.81        38\n",
      "\n",
      "    accuracy                           0.81        80\n",
      "   macro avg       0.81      0.81      0.81        80\n",
      "weighted avg       0.81      0.81      0.81        80\n",
      "\n"
     ]
    }
   ],
   "source": [
    "# compute the performance measures on test data\n",
    "# call the function 'get_test_report'\n",
    "# pass the AdaBoost model to the function\n",
    "test_report = get_test_report(ada_model)\n",
    "\n",
    "# print the performance measures\n",
    "print(test_report)"
   ]
  },
  {
   "cell_type": "markdown",
   "metadata": {
    "id": "PvkyqsSOEjX2"
   },
   "source": [
    "**Interpretation:** The output shows that the model is 81% accurate."
   ]
  },
  {
   "cell_type": "markdown",
   "metadata": {
    "id": "ihPy_8TiEjX3"
   },
   "source": [
    "#### Plot the ROC curve."
   ]
  },
  {
   "cell_type": "code",
   "execution_count": 38,
   "metadata": {
    "id": "RwhuEMIgEjX3",
    "outputId": "1666e3d4-dd9a-40f7-d987-5363468ec481"
   },
   "outputs": [
    {
     "data": {
      "image/png": "[encoded data removed]",
      "text/plain": [
       "<Figure size 1080x576 with 1 Axes>"
      ]
     },
     "metadata": {
      "needs_background": "light"
     },
     "output_type": "display_data"
    }
   ],
   "source": [
    "# call the function to plot the ROC curve\n",
    "# pass the AdaBoost model to the function\n",
    "plot_roc(ada_model)"
   ]
  },
  {
   "cell_type": "markdown",
   "metadata": {
    "id": "1866lj_kEjX4"
   },
   "source": [
    "**Interpretation:** The red dotted line represents the ROC curve of a purely random classifier; a good classifier stays as far away from that line as possible (toward the top-left corner).<br>\n",
    "From the above plot, we can see that the AdaBoost model is away from the dotted line; with the AUC score 0.9132."
   ]
  },
  {
   "cell_type": "markdown",
   "metadata": {
    "id": "3TmNGHTuEjX4"
   },
   "source": [
    "<a id=\"gradient\"></a>\n",
    "## 3.2 Gradient Boosting"
   ]
  },
  {
   "cell_type": "markdown",
   "metadata": {
    "id": "LoEdcoNEEjX5"
   },
   "source": [
    "This method optimizes the differentiable loss function by building the number of weak learners (decision trees) sequentially. It considers the residuals from the previous model and fits the next model to the residuals. The algorithm uses a gradient descent method to minimize the error."
   ]
  },
  {
   "cell_type": "markdown",
   "metadata": {
    "id": "21Eyf6qMEjX5"
   },
   "source": [
    "#### Build a gradient boosting model on a training dataset."
   ]
  },
  {
   "cell_type": "code",
   "execution_count": 43,
   "metadata": {
    "id": "u12S8QvFEjX6",
    "outputId": "12f0fdec-a3e6-4f21-83f6-0316b6bdf7aa",
    "scrolled": true
   },
   "outputs": [
    {
     "data": {
      "text/plain": [
       "GradientBoostingClassifier(max_depth=10, n_estimators=150, random_state=10)"
      ]
     },
     "execution_count": 43,
     "metadata": {},
     "output_type": "execute_result"
    }
   ],
   "source": [
    "# instantiate the 'GradientBoostingClassifier' \n",
    "# n_estimators: number of estimators to consider\n",
    "# 'max_depth': assigns maximum depth of the tree\n",
    "# pass the 'random_state' to obtain the same results for each code implementation\n",
    "gboost_model = GradientBoostingClassifier(n_estimators = 150, max_depth = 10, random_state = 10)\n",
    "\n",
    "# fit the model using fit() on train data\n",
    "###############\n",
    "gboost_model.fit(X_train,y_train)"
   ]
  },
  {
   "cell_type": "markdown",
   "metadata": {
    "id": "IZ5AeoQeEjX6"
   },
   "source": [
    "Let us understand the parameters in the `GradientBoostingClassifier()`:\n",
    "\n",
    "`ccp_alpha=0.0`: The complexity parameter used for pruning. By default, there is no pruning.\n",
    "\n",
    "`criterion=friedman_mse`: The criteria to measure the quality of a split.\n",
    "\n",
    "`init=None`: The estimator for initial predictions.\n",
    "\n",
    "`learning_rate=0.1`: It considers the contribution of each estimator in the classifier.\n",
    "\n",
    "`loss=deviance`: The loss function to be optimized.\n",
    "\n",
    "`max_depth=10`: Assigns the maximum depth of the tree.\n",
    "\n",
    "`max_features=None`: Maximum features to consider for the split.\n",
    "\n",
    "`max_leaf_nodes=None`: Maximum number of leaf/terminal nodes in the tree.\n",
    "\n",
    "`min_impurity_decrease=0.0`: A node splits if it decreases the impurity by the value given by this parameter. \n",
    "\n",
    "`min_impurity_split=None`: Minimum value of impurity for a node to split.\n",
    "\n",
    "`min_samples_leaf=1`: Minimum number of samples needed at the leaf/terminal node.\n",
    "\n",
    "`min_samples_split=2`: Minimum number of samples needed at the internal node to split. \n",
    "\n",
    "`min_weight_fraction_leaf=0.0`: Minimum weighted fraction needed at a leaf node.\n",
    "\n",
    "`n_estimators=150`: The number of estimators to consider.\n",
    "\n",
    "`n_iter_no_change=None`: Number of iterations after which the training should terminate if the score is not improving.\n",
    "\n",
    "`presort='deprecated'`: It considers whether to presort the data. (This parameter may not be available in the latest versions). \n",
    "\n",
    "`random_state=10`: It returns the same set of samples for each code implementation.\n",
    "\n",
    "`subsample=1.0`: Fraction of samples to use for fitting each estimator.\n",
    "\n",
    "`tol=0.0001`: Value of tolerance to terminate the training.\n",
    "\n",
    "`validation_fraction=0.1`: Fraction of training dataset used for validation.\n",
    "\n",
    "`verbose=0`: Enables verbose output (by default, no progress will be printed).\n",
    "\n",
    "`warm_start=False`: Whether to reuse the solution of previous code implementation (by default, it does not consider the previous solution)."
   ]
  },
  {
   "cell_type": "markdown",
   "metadata": {
    "id": "5eqSH-LbEjX9"
   },
   "source": [
    "#### Plot the confusion matrix."
   ]
  },
  {
   "cell_type": "code",
   "execution_count": 44,
   "metadata": {
    "id": "BG3WHov9EjX9",
    "outputId": "de79eee8-4377-4b9b-88b0-2355e8c5be77",
    "scrolled": false
   },
   "outputs": [
    {
     "data": {
      "image/png": "[encoded data removed]",
      "text/plain": [
       "<Figure size 1080x576 with 1 Axes>"
      ]
     },
     "metadata": {
      "needs_background": "light"
     },
     "output_type": "display_data"
    }
   ],
   "source": [
    "# call the function to plot the confusion matrix\n",
    "# pass the gradient boosting model to the function\n",
    "plot_confusion_matrix(gboost_model)"
   ]
  },
  {
   "cell_type": "markdown",
   "metadata": {
    "id": "GGe93oJsEjX_"
   },
   "source": [
    "**Calculate performance measures on the test set.**"
   ]
  },
  {
   "cell_type": "code",
   "execution_count": 45,
   "metadata": {
    "id": "m8bj1jjGEjYA",
    "outputId": "5f6322ca-856b-490c-f1f7-e9e5658959fe",
    "scrolled": false
   },
   "outputs": [
    {
     "name": "stdout",
     "output_type": "stream",
     "text": [
      "              precision    recall  f1-score   support\n",
      "\n",
      "           0       0.80      0.79      0.80        42\n",
      "           1       0.77      0.79      0.78        38\n",
      "\n",
      "    accuracy                           0.79        80\n",
      "   macro avg       0.79      0.79      0.79        80\n",
      "weighted avg       0.79      0.79      0.79        80\n",
      "\n"
     ]
    }
   ],
   "source": [
    "# compute the performance measures on test data\n",
    "# call the function 'get_test_report'\n",
    "# pass the gradient boosting model to the function\n",
    "test_report = get_test_report(gboost_model)\n",
    "\n",
    "# print the performance measures\n",
    "print(test_report)"
   ]
  },
  {
   "cell_type": "markdown",
   "metadata": {
    "id": "jeaRKWK6EjYB"
   },
   "source": [
    "**Interpretation:** The classification report shows that the model is 79% accurate. Also, the sensitivity and specificity are equal."
   ]
  },
  {
   "cell_type": "markdown",
   "metadata": {
    "id": "0oIJtLSTEjYB"
   },
   "source": [
    "#### Plot the ROC curve."
   ]
  },
  {
   "cell_type": "code",
   "execution_count": 46,
   "metadata": {
    "id": "1mdDzyxiEjYS",
    "outputId": "52d8e48e-4ce5-432a-a5b6-4886aece8ca1"
   },
   "outputs": [
    {
     "data": {
      "image/png": "[encoded data removed]",
      "text/plain": [
       "<Figure size 1080x576 with 1 Axes>"
      ]
     },
     "metadata": {
      "needs_background": "light"
     },
     "output_type": "display_data"
    }
   ],
   "source": [
    "# call the function to plot the ROC curve\n",
    "# pass the gradient boosting model to the function\n",
    "plot_roc(gboost_model)"
   ]
  },
  {
   "cell_type": "markdown",
   "metadata": {
    "id": "D-1oiMxTEjYT"
   },
   "source": [
    "**Interpretation:** The red dotted line represents the ROC curve of a purely random classifier; a good classifier stays as far away from that line as possible (toward the top-left corner).<br>\n",
    "From the above plot, we can see that the gradient boosting model is away from the dotted line; with the AUC score 0.8954."
   ]
  },
  {
   "cell_type": "markdown",
   "metadata": {
    "id": "giHp6AqqEjYT"
   },
   "source": [
    "<a id=\"xgboost\"></a>\n",
    "## 3.3 XGBoost "
   ]
  },
  {
   "cell_type": "markdown",
   "metadata": {
    "id": "eDfp2m8ZEjYU"
   },
   "source": [
    "XGBoost (extreme gradient boost) is an alternative form of gradient boosting method. This method generally considers the initial prediction as 0.5 and build the decision tree to predict the residuals. It considers the regularization parameter to avoid overfitting."
   ]
  },
  {
   "cell_type": "markdown",
   "metadata": {
    "id": "poALKGW-EjYV"
   },
   "source": [
    "#### Build an XGBoost model on a training dataset."
   ]
  },
  {
   "cell_type": "code",
   "execution_count": 47,
   "metadata": {
    "id": "L5X2IiSREjYV",
    "outputId": "eb553f44-7c23-4bee-b377-e4ed45d0277c"
   },
   "outputs": [
    {
     "data": {
      "text/plain": [
       "XGBClassifier(base_score=None, booster=None, callbacks=None,\n",
       "              colsample_bylevel=None, colsample_bynode=None,\n",
       "              colsample_bytree=None, early_stopping_rounds=None,\n",
       "              enable_categorical=False, eval_metric=None, feature_types=None,\n",
       "              gamma=1, gpu_id=None, grow_policy=None, importance_type=None,\n",
       "              interaction_constraints=None, learning_rate=None, max_bin=None,\n",
       "              max_cat_threshold=None, max_cat_to_onehot=None,\n",
       "              max_delta_step=None, max_depth=10, max_leaves=None,\n",
       "              min_child_weight=None, missing=nan, monotone_constraints=None,\n",
       "              n_estimators=100, n_jobs=None, num_parallel_tree=None,\n",
       "              predictor=None, random_state=None, ...)"
      ]
     },
     "execution_count": 47,
     "metadata": {},
     "output_type": "execute_result"
    }
   ],
   "source": [
    "# instantiate the 'XGBClassifier'\n",
    "# set the maximum depth of the tree using the parameter, 'max_depth'\n",
    "# pass the value of minimum loss reduction required for partition of the leaf node to the parameter, 'gamma'\n",
    "\n",
    "xgb_model = XGBClassifier(max_depth = 10, gamma = 1)\n",
    "\n",
    "# fit the model using fit() on train data\n",
    "xgb_model.fit(X_train, y_train)"
   ]
  },
  {
   "cell_type": "markdown",
   "metadata": {
    "id": "9lasb87QEjYW"
   },
   "source": [
    "Let us understand the parameters in the `XGBClassifier()`:\n",
    "\n",
    "`base_score=0.5`: Initial prediction for base learners.\n",
    "\n",
    "`booster=gbtree`: Considers the regression tree as the base learners.\n",
    "\n",
    "`colsample_bylevel=1`: Fraction of variables to consider for each level.\n",
    "\n",
    "`colsample_bynode=1`: Fraction of variables to consider for each split.\n",
    "\n",
    "`colsample_bytree=1`: Fraction of variables to consider for each tree.\n",
    "\n",
    "`gamma=1`: Value of minimum loss reduction required for the partition of the leaf node.\n",
    "\n",
    "`gpu_id=-1`: It considers all the GPU's. \n",
    "\n",
    "`importance_type=gain`: Importance type for calculating feature importance.\n",
    "\n",
    "`interaction_constraints=''`: By default, no interaction between the features is allowed.\n",
    "\n",
    "`learning_rate=0.300000012`: It considers the contribution of each estimator in the classifier.\n",
    "\n",
    "`max_delta_step=0`: Maximum delta step allowed for each tree's weight estimation to be.\n",
    "\n",
    "`max_depth=10`: Maximum depth of each tree.\n",
    "\n",
    "`min_child_weight=1`: Minimum sum of hessian (p*(1-p)) required in a leaf node.\n",
    "\n",
    "`missing=nan`: Value to consider as a missing value.\n",
    "\n",
    "`monotone_constraints='()'`:  Constraint of variable monotonicity. (adding increasing/decreasing constraint on the variables )\n",
    "\n",
    "`n_estimators=100`: The number of estimators to consider.\n",
    "\n",
    "`n_jobs=0`: Number of parallel threads to run the classifier.\n",
    "\n",
    "`num_parallel_tree=1`: It is used for boosting random forest.\n",
    "\n",
    "`objective='binary:logistic'`: Considers the binary logistic regression as a learning objective.\n",
    "\n",
    "`random_state=0`: It returns the same set of samples for each code implementation.\n",
    "\n",
    "`reg_alpha=0`: Lasso regularization term for weights.\n",
    "\n",
    "`reg_lambda=1`: Ridge regularization term for weights.\n",
    "\n",
    "`scale_pos_weight=1`:  Ratio of the number of negative class to the positive class.\n",
    "\n",
    "`subsample=1`: Fraction of total training data points.\n",
    "\n",
    "`tree_method='exact'`: Considers the exact greedy algorithm.\n",
    "\n",
    "`validate_parameters=1`: Performs validation on input paramerters.\n",
    "\n",
    "`verbosity=None`: Enables verbose output (by default, no progress will be printed)."
   ]
  },
  {
   "cell_type": "markdown",
   "metadata": {
    "id": "2TJ9dAWAEjYX"
   },
   "source": [
    "#### Plot the confusion matrix."
   ]
  },
  {
   "cell_type": "code",
   "execution_count": 48,
   "metadata": {
    "id": "euxOd3ZBEjYY",
    "outputId": "79385066-c94f-4ac2-9aae-e960bdf7ac5a"
   },
   "outputs": [
    {
     "data": {
      "image/png": "[encoded data removed]",
      "text/plain": [
       "<Figure size 1080x576 with 1 Axes>"
      ]
     },
     "metadata": {
      "needs_background": "light"
     },
     "output_type": "display_data"
    }
   ],
   "source": [
    "# call the function to plot the confusion matrix\n",
    "# pass the XGBoost model to the function\n",
    "plot_confusion_matrix(xgb_model)"
   ]
  },
  {
   "cell_type": "markdown",
   "metadata": {
    "id": "dROop0wZEjYZ"
   },
   "source": [
    "**Calculate performance measures on the test set.**"
   ]
  },
  {
   "cell_type": "code",
   "execution_count": 49,
   "metadata": {
    "id": "nBTHEQFvEjYZ",
    "outputId": "ba6456c5-64a8-4a83-c792-da579d499793",
    "scrolled": false
   },
   "outputs": [
    {
     "name": "stdout",
     "output_type": "stream",
     "text": [
      "              precision    recall  f1-score   support\n",
      "\n",
      "           0       0.87      0.81      0.84        42\n",
      "           1       0.80      0.87      0.84        38\n",
      "\n",
      "    accuracy                           0.84        80\n",
      "   macro avg       0.84      0.84      0.84        80\n",
      "weighted avg       0.84      0.84      0.84        80\n",
      "\n"
     ]
    }
   ],
   "source": [
    "# compute the performance measures on test data\n",
    "# call the function 'get_test_report'\n",
    "# pass the XGBoost model to the function\n",
    "test_report = get_test_report(xgb_model)\n",
    "\n",
    "# print the performance measures\n",
    "print(test_report)"
   ]
  },
  {
   "cell_type": "markdown",
   "metadata": {
    "id": "LAPklWI3EjYa"
   },
   "source": [
    "**Interpretation:** The above output shows that the f1-score and accuracy of the model is 0.84"
   ]
  },
  {
   "cell_type": "markdown",
   "metadata": {
    "id": "OzEBM612EjYa"
   },
   "source": [
    "#### Plot the ROC curve."
   ]
  },
  {
   "cell_type": "code",
   "execution_count": 50,
   "metadata": {
    "id": "IpYc7RjQEjYb",
    "outputId": "1d5667a6-4a1f-41a1-8437-a879e66d0e63",
    "scrolled": false
   },
   "outputs": [
    {
     "data": {
      "image/png": "[encoded data removed]",
      "text/plain": [
       "<Figure size 1080x576 with 1 Axes>"
      ]
     },
     "metadata": {
      "needs_background": "light"
     },
     "output_type": "display_data"
    }
   ],
   "source": [
    "# call the function to plot the ROC curve\n",
    "# pass the XGBoost model to the function\n",
    "plot_roc(xgb_model)"
   ]
  },
  {
   "cell_type": "markdown",
   "metadata": {
    "id": "Fkt0CFZUEjYb"
   },
   "source": [
    "**Interpretation:** The red dotted line represents the ROC curve of a purely random classifier; a good classifier stays as far away from that line as possible (toward the top-left corner).<br>\n",
    "From the above plot, we can see that the XGBoost model is away from the dotted line; with the AUC score 0.8888."
   ]
  },
  {
   "cell_type": "markdown",
   "metadata": {
    "id": "xO9Tsuw_EjYc"
   },
   "source": [
    "<a id=\"tune\"></a>\n",
    "### 3.3.1 Tune the Hyperparameters (GridSearchCV)"
   ]
  },
  {
   "cell_type": "markdown",
   "metadata": {
    "id": "CBrqKsRxEjYc"
   },
   "source": [
    "Let us tune the hyperparameters to obtain the optimal values for the XGBoost model."
   ]
  },
  {
   "cell_type": "code",
   "execution_count": 52,
   "metadata": {
    "id": "X9XEx3x_EjYd",
    "outputId": "c37ee8b5-d107-4941-f92a-0b402bf90623"
   },
   "outputs": [
    {
     "name": "stdout",
     "output_type": "stream",
     "text": [
      "Best parameters for XGBoost classifier:  <bound method BaseEstimator.get_params of GridSearchCV(cv=3,\n",
      "             estimator=XGBClassifier(base_score=None, booster=None,\n",
      "                                     callbacks=None, colsample_bylevel=None,\n",
      "                                     colsample_bynode=None,\n",
      "                                     colsample_bytree=None,\n",
      "                                     early_stopping_rounds=None,\n",
      "                                     enable_categorical=False, eval_metric=None,\n",
      "                                     feature_types=None, gamma=None,\n",
      "                                     gpu_id=None, grow_policy=None,\n",
      "                                     importance_type=None,\n",
      "                                     interaction_constraints=None,\n",
      "                                     learning_rate=None,...\n",
      "                                     max_cat_threshold=None,\n",
      "                                     max_cat_to_onehot=None,\n",
      "                                     max_delta_step=None, max_depth=None,\n",
      "                                     max_leaves=None, min_child_weight=None,\n",
      "                                     missing=nan, monotone_constraints=None,\n",
      "                                     n_estimators=100, n_jobs=None,\n",
      "                                     num_parallel_tree=None, predictor=None,\n",
      "                                     random_state=None, ...),\n",
      "             param_grid={'gamma': [0, 1, 2, 3, 4],\n",
      "                         'learning_rate': [0.1, 0.2, 0.3],\n",
      "                         'max_depth': range(3, 10)},\n",
      "             scoring='roc_auc')> \n",
      "\n"
     ]
    }
   ],
   "source": [
    "# create a dictionary with hyperparameters and its values\n",
    "# learning_rate: pass the list of boosting learning rates\n",
    "# max_depth: pass the range of values as the maximum tree depth for base learners\n",
    "# gamma: pass the list of minimum loss reduction values required to make a further partition on a leaf node of the tree\n",
    "tuning_parameters = {'learning_rate': [0.1, 0.2, 0.3],  #, 0.4, 0.5, 0.6],\n",
    "                     'max_depth': range(3,10),\n",
    "                     'gamma': [0, 1, 2, 3, 4]}\n",
    "\n",
    "# instantiate the 'XGBClassifier' \n",
    "xgb_model = XGBClassifier()\n",
    "\n",
    "# use GridSearchCV() to find the optimal value of the hyperparameters\n",
    "# estimator: pass the XGBoost classifier model\n",
    "# param_grid: pass the list 'tuned_parameters'\n",
    "# cv: number of folds in k-fold i.e. here cv = 3\n",
    "# scoring: pass a measure to evaluate the model on test set\n",
    "\n",
    "xgb_grid = GridSearchCV(estimator=xgb_model, param_grid= tuning_parameters,cv = 3, scoring= 'roc_auc')\n",
    "\n",
    "# fit the model on X_train and y_train using fit()\n",
    "xgb_grid.fit(X_train, y_train)\n",
    "\n",
    "# get the best parameters\n",
    "print('Best parameters for XGBoost classifier: ', xgb_grid.get_params ,'\\n')"
   ]
  },
  {
   "cell_type": "markdown",
   "metadata": {
    "id": "YKCd0I6TEjYe"
   },
   "source": [
    "#### Build the model using the tuned hyperparameters."
   ]
  },
  {
   "cell_type": "code",
   "execution_count": null,
   "metadata": {
    "id": "eXAmTGFoEjYe",
    "outputId": "b76c6d77-0d68-4854-de92-df828368cf10"
   },
   "outputs": [
    {
     "name": "stdout",
     "output_type": "stream",
     "text": [
      "Classification Report for test set:\n",
      "               precision    recall  f1-score   support\n",
      "\n",
      "           0       0.87      0.81      0.84        42\n",
      "           1       0.80      0.87      0.84        38\n",
      "\n",
      "    accuracy                           0.84        80\n",
      "   macro avg       0.84      0.84      0.84        80\n",
      "weighted avg       0.84      0.84      0.84        80\n",
      "\n"
     ]
    }
   ],
   "source": [
    "# instantiate the 'XGBClassifier'\n",
    "# 'best_params_' returns the dictionary containing best parameter values and parameter name  \n",
    "# 'get()' returns the value of specified parameter\n",
    "xgb_grid_model = XGBClassifier(learning_rate = xgb_grid.best_params_.get('learning_rate'),\n",
    "                               max_depth = xgb_grid.best_params_.get('max_depth'),\n",
    "                              gamma = xgb_grid.best_params_.get('gamma'))\n",
    "\n",
    "# use fit() to fit the model on the train set\n",
    "xgb_model = xgb_grid_model.fit(X_train, y_train)\n",
    "\n",
    "# print the performance measures for test set for the model with best parameters\n",
    "print('Classification Report for test set:\\n', get_test_report(xgb_model))"
   ]
  },
  {
   "cell_type": "markdown",
   "metadata": {
    "id": "WYHI71CLEjYf"
   },
   "source": [
    "**Interpretation:** The above output shows that the f1-score and accuracy of the model is 0.84."
   ]
  },
  {
   "cell_type": "markdown",
   "metadata": {
    "id": "DVc-U2k0EjYf"
   },
   "source": [
    "#### Plot the ROC curve."
   ]
  },
  {
   "cell_type": "code",
   "execution_count": null,
   "metadata": {
    "id": "I_dRTudEEjYg",
    "outputId": "80971d66-8d30-4820-8716-e0e9b7f46acc",
    "scrolled": false
   },
   "outputs": [
    {
     "data": {
      "image/png": "[encoded data removed]",
      "text/plain": [
       "<Figure size 1080x576 with 1 Axes>"
      ]
     },
     "metadata": {},
     "output_type": "display_data"
    }
   ],
   "source": [
    "# call the function to plot the ROC curve\n",
    "# pass the XGBoost model to the function\n",
    "plot_roc(xgb_model)"
   ]
  },
  {
   "cell_type": "markdown",
   "metadata": {
    "id": "wTUtlvgoEjYh"
   },
   "source": [
    "**Interpretation:** The red dotted line represents the ROC curve of a purely random classifier; a good classifier stays as far away from that line as possible (toward the top-left corner).<br>\n",
    "From the above plot, we can see that the XGBoost model (GridSearchCV) is away from the dotted line; with the AUC score 0.9145."
   ]
  },
  {
   "cell_type": "markdown",
   "metadata": {
    "id": "IMOOPtaMEjYh"
   },
   "source": [
    "### Identify the Important Features using XGBoost"
   ]
  },
  {
   "cell_type": "markdown",
   "metadata": {
    "id": "cSrqBDLWEjYi"
   },
   "source": [
    "Let us create a barplot to identify the important feature in the dataset.\n",
    "\n",
    "The method `feature_importances_` returns the value corresponding to each feature which is defined as the ratio of the average gain across all the splits in which the feature is used to the total average gain of all the features.\n",
    "\n",
    "There are different methods like `weight`, `cover`, `total_gain` and `total_cover` which returns the feature importance based on different criteria.\n",
    "\n",
    "`weight`: It is the frequency of a feature used to split the data in all the trees.\n",
    "\n",
    "`cover`: It is the average cover value of a feature for all the splits.\n",
    "\n",
    "`total_gain`: It is the sum of gain of a feature for all the splits.\n",
    "\n",
    "`total_cover`: It is the sum of a cover of a feature for all the splits."
   ]
  },
  {
   "cell_type": "code",
   "execution_count": null,
   "metadata": {
    "id": "vIiNiecDEjYi",
    "outputId": "de1fc288-ec06-4b1f-9a93-e178806f2f19",
    "scrolled": false
   },
   "outputs": [
    {
     "data": {
      "image/png": "[encoded data removed]",
      "text/plain": [
       "<Figure size 1080x576 with 1 Axes>"
      ]
     },
     "metadata": {},
     "output_type": "display_data"
    }
   ],
   "source": [
    "# create a dataframe that stores the feature names and their importance\n",
    "# 'feature_importances_' returns the features based on the average gain \n",
    "important_features = pd.DataFrame({'Features': X_train.columns, \n",
    "                                   'Importance': xgb_model.feature_importances_})\n",
    "\n",
    "# sort the dataframe in the descending order according to the feature importance\n",
    "important_features = important_features.sort_values('Importance', ascending = False)\n",
    "\n",
    "# create a barplot to visualize the features based on their importance\n",
    "sns.barplot(x = 'Importance', y = 'Features', data = important_features)\n",
    "\n",
    "# add plot and axes labels\n",
    "# set text size using 'fontsize'\n",
    "plt.title('Feature Importance', fontsize = 15)\n",
    "plt.xlabel('Importance', fontsize = 15)\n",
    "plt.ylabel('Features', fontsize = 15)\n",
    "\n",
    "# display the plot\n",
    "plt.show()"
   ]
  },
  {
   "cell_type": "markdown",
   "metadata": {
    "id": "nZAvWe-SEjYj"
   },
   "source": [
    "**Interpretation:** The above bar plot shows that, the variable `CGPA` is of highest importance. "
   ]
  },
  {
   "cell_type": "markdown",
   "metadata": {
    "id": "mT4v4MvCEjYk"
   },
   "source": [
    "<a id=\"stack\"></a>\n",
    "# 4. Stack Generalization  "
   ]
  },
  {
   "cell_type": "markdown",
   "metadata": {
    "id": "pnr_BKQHEjYk"
   },
   "source": [
    "Stacking is a machine learning technique that takes several classification or regression models and uses their predictions as the input for the meta-classifier (final classifier) or meta-regressor (final regressor).\n",
    "\n",
    "As we are using the distance-based algorithm like KNN, we scale the data before applying the stacking technique."
   ]
  },
  {
   "cell_type": "code",
   "execution_count": null,
   "metadata": {
    "id": "FmtKb-3FEjYl"
   },
   "outputs": [],
   "source": [
    "# initialize the standard scalar\n",
    "X_scaler = StandardScaler()\n",
    "\n",
    "# scale all the numerical columns\n",
    "# standardize all the columns of the dataframe 'df_num'\n",
    "num_scaled = X_scaler.fit_transform(df_num)\n",
    "\n",
    "# create a dataframe of scaled numerical variables\n",
    "# pass the required column names to the parameter 'columns'\n",
    "df_num_scaled = pd.DataFrame(num_scaled, columns = df_num.columns)"
   ]
  },
  {
   "cell_type": "markdown",
   "metadata": {
    "id": "p25xBhqwEjYm"
   },
   "source": [
    "Concatenate scaled numerical and dummy encoded categorical variables."
   ]
  },
  {
   "cell_type": "code",
   "execution_count": null,
   "metadata": {
    "id": "LAzbcp6LEjYn",
    "outputId": "23586e29-6084-43d3-f4d2-f465a5089df1",
    "scrolled": true
   },
   "outputs": [
    {
     "data": {
      "text/html": [
       "<div>\n",
       "<style scoped>\n",
       "    .dataframe tbody tr th:only-of-type {\n",
       "        vertical-align: middle;\n",
       "    }\n",
       "\n",
       "    .dataframe tbody tr th {\n",
       "        vertical-align: top;\n",
       "    }\n",
       "\n",
       "    .dataframe thead th {\n",
       "        text-align: right;\n",
       "    }\n",
       "</style>\n",
       "<table border=\"1\" class=\"dataframe\">\n",
       "  <thead>\n",
       "    <tr style=\"text-align: right;\">\n",
       "      <th></th>\n",
       "      <th>GRE Score</th>\n",
       "      <th>TOEFL Score</th>\n",
       "      <th>University Rating</th>\n",
       "      <th>SOP</th>\n",
       "      <th>LOR</th>\n",
       "      <th>CGPA</th>\n",
       "      <th>Research_1</th>\n",
       "    </tr>\n",
       "  </thead>\n",
       "  <tbody>\n",
       "    <tr>\n",
       "      <th>0</th>\n",
       "      <td>1.762107</td>\n",
       "      <td>1.746971</td>\n",
       "      <td>0.798829</td>\n",
       "      <td>1.093864</td>\n",
       "      <td>1.167321</td>\n",
       "      <td>1.764818</td>\n",
       "      <td>1</td>\n",
       "    </tr>\n",
       "    <tr>\n",
       "      <th>1</th>\n",
       "      <td>0.627656</td>\n",
       "      <td>-0.067635</td>\n",
       "      <td>0.798829</td>\n",
       "      <td>0.596653</td>\n",
       "      <td>1.167321</td>\n",
       "      <td>0.455151</td>\n",
       "      <td>1</td>\n",
       "    </tr>\n",
       "    <tr>\n",
       "      <th>2</th>\n",
       "      <td>-0.070467</td>\n",
       "      <td>-0.562528</td>\n",
       "      <td>-0.076600</td>\n",
       "      <td>-0.397769</td>\n",
       "      <td>0.052933</td>\n",
       "      <td>-1.005631</td>\n",
       "      <td>1</td>\n",
       "    </tr>\n",
       "    <tr>\n",
       "      <th>3</th>\n",
       "      <td>0.453126</td>\n",
       "      <td>0.427257</td>\n",
       "      <td>-0.076600</td>\n",
       "      <td>0.099442</td>\n",
       "      <td>-1.061454</td>\n",
       "      <td>0.119339</td>\n",
       "      <td>1</td>\n",
       "    </tr>\n",
       "    <tr>\n",
       "      <th>4</th>\n",
       "      <td>-0.244998</td>\n",
       "      <td>-0.727492</td>\n",
       "      <td>-0.952029</td>\n",
       "      <td>-1.392191</td>\n",
       "      <td>-0.504260</td>\n",
       "      <td>-0.653029</td>\n",
       "      <td>0</td>\n",
       "    </tr>\n",
       "  </tbody>\n",
       "</table>\n",
       "</div>"
      ],
      "text/plain": [
       "   GRE Score  TOEFL Score  University Rating       SOP       LOR      CGPA  \\\n",
       "0   1.762107     1.746971           0.798829  1.093864  1.167321  1.764818   \n",
       "1   0.627656    -0.067635           0.798829  0.596653  1.167321  0.455151   \n",
       "2  -0.070467    -0.562528          -0.076600 -0.397769  0.052933 -1.005631   \n",
       "3   0.453126     0.427257          -0.076600  0.099442 -1.061454  0.119339   \n",
       "4  -0.244998    -0.727492          -0.952029 -1.392191 -0.504260 -0.653029   \n",
       "\n",
       "   Research_1  \n",
       "0           1  \n",
       "1           1  \n",
       "2           1  \n",
       "3           1  \n",
       "4           0  "
      ]
     },
     "execution_count": 39,
     "metadata": {},
     "output_type": "execute_result"
    }
   ],
   "source": [
    "# concat the dummy variables with scaled numeric features to create a dataframe of all independent variables\n",
    "# 'axis=1' concats the dataframes along columns \n",
    "X = pd.concat([df_num_scaled, dummy_var], axis = 1)\n",
    "\n",
    "# display first five observations\n",
    "X.head()"
   ]
  },
  {
   "cell_type": "markdown",
   "metadata": {
    "id": "lqjp3hI5EjYo"
   },
   "source": [
    "Let us split the dataset in train and test set."
   ]
  },
  {
   "cell_type": "code",
   "execution_count": null,
   "metadata": {
    "id": "DEUwEbfrEjY5",
    "outputId": "65db0739-602f-4dd4-cd14-85541fe14c95"
   },
   "outputs": [
    {
     "name": "stdout",
     "output_type": "stream",
     "text": [
      "X_train (320, 7)\n",
      "y_train (320,)\n",
      "X_test (80, 7)\n",
      "y_test (80,)\n"
     ]
    }
   ],
   "source": [
    "# split data into train subset and test subset\n",
    "X_train, X_test, y_train, y_test = train_test_split(X, df_target, random_state = 10, test_size = 0.2)\n",
    "\n",
    "print('X_train', X_train.shape)\n",
    "print('y_train', y_train.shape)\n",
    "\n",
    "print('X_test', X_test.shape)\n",
    "print('y_test', y_test.shape)"
   ]
  },
  {
   "cell_type": "markdown",
   "metadata": {
    "id": "bPlXGw7JEjY6"
   },
   "source": [
    "#### Build the stacking classifier using the Random forest, KNN and Naive bayes as base learners (consider the hyperparameters tuned using GridSearchCV in the previous sessions)."
   ]
  },
  {
   "cell_type": "code",
   "execution_count": null,
   "metadata": {
    "id": "40adEGSyEjY7",
    "outputId": "c989c64c-00ad-43e5-a18a-336092790bb6"
   },
   "outputs": [
    {
     "data": {
      "text/plain": [
       "StackingClassifier(cv=None,\n",
       "                   estimators=[('rf_model',\n",
       "                                RandomForestClassifier(bootstrap=True,\n",
       "                                                       ccp_alpha=0.0,\n",
       "                                                       class_weight=None,\n",
       "                                                       criterion='entropy',\n",
       "                                                       max_depth=10,\n",
       "                                                       max_features='sqrt',\n",
       "                                                       max_leaf_nodes=8,\n",
       "                                                       max_samples=None,\n",
       "                                                       min_impurity_decrease=0.0,\n",
       "                                                       min_impurity_split=None,\n",
       "                                                       min_samples_leaf=5,\n",
       "                                                       min_samples_split=2,\n",
       "                                                       min_weight_fraction_leaf=0.0,\n",
       "                                                       n_estimators=50,\n",
       "                                                       n_jobs=N...\n",
       "                                                       warm_start=False)),\n",
       "                               ('KNN_model',\n",
       "                                KNeighborsClassifier(algorithm='auto',\n",
       "                                                     leaf_size=30,\n",
       "                                                     metric='euclidean',\n",
       "                                                     metric_params=None,\n",
       "                                                     n_jobs=None,\n",
       "                                                     n_neighbors=17, p=2,\n",
       "                                                     weights='uniform')),\n",
       "                               ('NB_model',\n",
       "                                GaussianNB(priors=None, var_smoothing=1e-09))],\n",
       "                   final_estimator=GaussianNB(priors=None, var_smoothing=1e-09),\n",
       "                   n_jobs=None, passthrough=False, stack_method='auto',\n",
       "                   verbose=0)"
      ]
     },
     "execution_count": 41,
     "metadata": {},
     "output_type": "execute_result"
    }
   ],
   "source": [
    "# consider the various algorithms as base learners\n",
    "base_learners = [('rf_model', RandomForestClassifier(criterion = 'entropy', max_depth = 10, max_features = 'sqrt', \n",
    "                                                     max_leaf_nodes = 8, min_samples_leaf = 5, min_samples_split = 2, \n",
    "                                                     n_estimators = 50, random_state = 10)),\n",
    "                 ('KNN_model', KNeighborsClassifier(n_neighbors = 17, metric = 'euclidean')),\n",
    "                 ('NB_model', GaussianNB())]\n",
    "\n",
    "# initialize stacking classifier \n",
    "# pass the base learners to the parameter, 'estimators'\n",
    "# pass the Naive Bayes model as the 'final_estimator'/ meta model\n",
    "stack_model = #################(estimators = ############# ,  ############# = GaussianNB())\n",
    "\n",
    "# fit the model on train dataset\n",
    "stack_model.fit(X_train, y_train)"
   ]
  },
  {
   "cell_type": "markdown",
   "metadata": {
    "id": "kg_vZbU2EjY9"
   },
   "source": [
    "#### Plot the confusion matrix."
   ]
  },
  {
   "cell_type": "code",
   "execution_count": null,
   "metadata": {
    "id": "9oJRHgFPEjY-",
    "outputId": "63bc278a-b11f-4b13-eaf4-2521c340b725"
   },
   "outputs": [
    {
     "data": {
      "image/png": "[encoded data removed]",
      "text/plain": [
       "<Figure size 1080x576 with 1 Axes>"
      ]
     },
     "metadata": {},
     "output_type": "display_data"
    }
   ],
   "source": [
    "# call the function to plot the confusion matrix\n",
    "plot_confusion_matrix(stack_model)"
   ]
  },
  {
   "cell_type": "markdown",
   "metadata": {
    "id": "fc7n8zqbEjY_"
   },
   "source": [
    "**Calculate performance measures on the test set.**"
   ]
  },
  {
   "cell_type": "code",
   "execution_count": null,
   "metadata": {
    "id": "QJIc1sBLEjZA",
    "outputId": "a0d2f695-ad4f-47d5-a86d-8d93cedb3c22",
    "scrolled": false
   },
   "outputs": [
    {
     "name": "stdout",
     "output_type": "stream",
     "text": [
      "              precision    recall  f1-score   support\n",
      "\n",
      "           0       0.92      0.81      0.86        42\n",
      "           1       0.81      0.92      0.86        38\n",
      "\n",
      "    accuracy                           0.86        80\n",
      "   macro avg       0.87      0.87      0.86        80\n",
      "weighted avg       0.87      0.86      0.86        80\n",
      "\n"
     ]
    }
   ],
   "source": [
    "# compute the performance measures on test data\n",
    "\n",
    "test_report = get_test_report(stack_model)\n",
    "\n",
    "# print the performance measures\n",
    "print(test_report)"
   ]
  },
  {
   "cell_type": "markdown",
   "metadata": {
    "id": "MDgY1BSVEjZB"
   },
   "source": [
    "**Interpretation:** The above output shows that the f1-score and accuracy of the model is 0.86"
   ]
  },
  {
   "cell_type": "markdown",
   "metadata": {
    "id": "3BuJLhPmEjZD"
   },
   "source": [
    "#### Plot the ROC curve."
   ]
  },
  {
   "cell_type": "code",
   "execution_count": null,
   "metadata": {
    "id": "bB6Ja7gIEjZE",
    "outputId": "5704247e-b3c4-4fc0-aaeb-ec148a0f6c3a",
    "scrolled": false
   },
   "outputs": [
    {
     "data": {
      "image/png": "[encoded data removed]",
      "text/plain": [
       "<Figure size 1080x576 with 1 Axes>"
      ]
     },
     "metadata": {},
     "output_type": "display_data"
    }
   ],
   "source": [
    "# call the function to plot the ROC curve\n",
    "# pass the stack model to the function\n",
    "plot_roc(stack_model)"
   ]
  },
  {
   "cell_type": "markdown",
   "metadata": {
    "id": "ixFvz8DKEjZF"
   },
   "source": [
    "**Interpretation:** The red dotted line represents the ROC curve of a purely random classifier; a good classifier stays as far away from that line as possible (toward the top-left corner).<br>\n",
    "From the above plot, we can see that the stacking model is away from the dotted line; with the AUC score 0.9492."
   ]
  }
 ],
 "metadata": {
  "colab": {
   "collapsed_sections": [
    "pt4xtiI8EjXQ",
    "ay2Qcgm_EjXV",
    "vyZOJqG8EjXX",
    "_1H5PgvcEjXa",
    "Cpt7oPPPEjXb",
    "N8_UgKfSEjXf",
    "q_6tEGciEjXi",
    "UgW3R6o4EjXk",
    "5BF34JjfEjXk",
    "_REt6Y-uEjXl",
    "zRwl2QQ1EjXo",
    "6YskvlK9EjXp",
    "uWi1LS05EjXq",
    "yGt9cC2lEjXr",
    "mFjaeCsREjXs",
    "bCrnp_FsEjXw",
    "SPUfsoiMEjXx",
    "ogxfyW8oEjXz",
    "ihPy_8TiEjX3",
    "3TmNGHTuEjX4",
    "21Eyf6qMEjX5",
    "5eqSH-LbEjX9",
    "0oIJtLSTEjYB",
    "giHp6AqqEjYT",
    "poALKGW-EjYV",
    "2TJ9dAWAEjYX",
    "OzEBM612EjYa",
    "xO9Tsuw_EjYc",
    "YKCd0I6TEjYe",
    "DVc-U2k0EjYf",
    "IMOOPtaMEjYh",
    "bPlXGw7JEjY6",
    "kg_vZbU2EjY9",
    "3BuJLhPmEjZD"
   ],
   "name": "SLC - Faculty Notebook (Day 4) [v1.0 - 050620].ipynb",
   "provenance": []
  },
  "kernelspec": {
   "display_name": "Python 3 (ipykernel)",
   "language": "python",
   "name": "python3"
  },
  "language_info": {
   "codemirror_mode": {
    "name": "ipython",
    "version": 3
   },
   "file_extension": ".py",
   "mimetype": "text/x-python",
   "name": "python",
   "nbconvert_exporter": "python",
   "pygments_lexer": "ipython3",
   "version": "3.9.12"
  }
 },
 "nbformat": 4,
 "nbformat_minor": 1
}
